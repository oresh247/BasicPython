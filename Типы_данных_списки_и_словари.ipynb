{
  "nbformat": 4,
  "nbformat_minor": 0,
  "metadata": {
    "colab": {
      "provenance": [],
      "collapsed_sections": [
        "khxMKXlX9J4k"
      ],
      "include_colab_link": true
    },
    "kernelspec": {
      "display_name": "Python 3",
      "name": "python3"
    },
    "language_info": {
      "codemirror_mode": {
        "name": "ipython",
        "version": 3
      },
      "file_extension": ".py",
      "mimetype": "text/x-python",
      "name": "python",
      "nbconvert_exporter": "python",
      "pygments_lexer": "ipython3",
      "version": "3.8.3"
    }
  },
  "cells": [
    {
      "cell_type": "markdown",
      "metadata": {
        "id": "view-in-github",
        "colab_type": "text"
      },
      "source": [
        "<a href=\"https://colab.research.google.com/github/oresh247/BasicPython/blob/main/%D0%A2%D0%B8%D0%BF%D1%8B_%D0%B4%D0%B0%D0%BD%D0%BD%D1%8B%D1%85_%D1%81%D0%BF%D0%B8%D1%81%D0%BA%D0%B8_%D0%B8_%D1%81%D0%BB%D0%BE%D0%B2%D0%B0%D1%80%D0%B8.ipynb\" target=\"_parent\"><img src=\"https://colab.research.google.com/assets/colab-badge.svg\" alt=\"Open In Colab\"/></a>"
      ]
    },
    {
      "cell_type": "markdown",
      "metadata": {
        "id": "-dRFXe9i4HYL"
      },
      "source": [
        "# Погружение в типы (структуры) данных"
      ]
    },
    {
      "cell_type": "markdown",
      "metadata": {
        "id": "yf2ztrfuC54H"
      },
      "source": [
        "Спикер: Кильчуков Тимур\n",
        "\n",
        "Контакты(телеграм): @timur_kilch\n"
      ]
    },
    {
      "cell_type": "markdown",
      "metadata": {
        "id": "cCxQbcdB5B2r"
      },
      "source": [
        "## 1. План занятия"
      ]
    },
    {
      "cell_type": "markdown",
      "metadata": {
        "id": "-qZUoumK4EBL"
      },
      "source": [
        "План занятия\n",
        "1. Поговорим о том, что вообще такое структуры данных и зачем они нам нужны\n",
        "2. Разберем структуру данных - список, его возможности и задачи, которые можно решить с помощью него\n",
        "3. Разберем структуру данных - словарь, его возможности и задачи, которые можно решить с помощью него\n",
        "4. Поговорим о том, как работать с комбинациями из этих структур"
      ]
    },
    {
      "cell_type": "markdown",
      "metadata": {
        "id": "VobEJHx_5cnZ"
      },
      "source": [
        "## 2. Структуры данных"
      ]
    },
    {
      "cell_type": "markdown",
      "metadata": {
        "id": "FqWF-l4q5ijJ"
      },
      "source": [
        "\n",
        "Структуры данных - это общий термин для различных методов хранения информации.\n",
        "\n",
        "Как только мы начинаем выходить за рамки написания простейших программ у нас возниает потребность в хранении коллекций или наборов данных. Для этого в языке Python предусмотрены 2 очень мощных по своим возможностям типа данных: списки и словари."
      ]
    },
    {
      "cell_type": "code",
      "source": [
        "order1 = 'Порошок, кружка, чай, кофе'\n",
        "order2 = 'Сахар, соль, хлеб'\n",
        "order3 = '...'"
      ],
      "metadata": {
        "id": "LRj85RVYrHFG"
      },
      "execution_count": null,
      "outputs": []
    },
    {
      "cell_type": "markdown",
      "metadata": {
        "id": "xyeCEHEC5wla"
      },
      "source": [
        "## 3. Список"
      ]
    },
    {
      "cell_type": "markdown",
      "metadata": {
        "id": "KJ8ryfXZQAnF"
      },
      "source": [
        "### 3.0 Определение списка"
      ]
    },
    {
      "cell_type": "markdown",
      "metadata": {
        "id": "xj0Dxvpk9JxW"
      },
      "source": [
        "\n",
        "\n",
        "\n",
        "\n",
        "\n",
        "\n",
        "\n",
        "\n",
        "\n",
        "\n",
        "**Список** в Python — это упорядоченная изменяемая коллекция объектов произвольных типов.\n",
        "\n",
        "\n",
        "\n",
        "\n",
        "В этом определении важна каждое слово. Мы будем к нему возвращаться по мере иллюстрации возможностей и свойств списков.\n",
        "\n",
        "\n",
        "\n",
        "* Когда мы называем список коллекцией, мы имеем в виду, что в одном списке может храниться множество объектов (например, чисел или строковых величин)\n",
        "\n",
        "\n",
        "* Говоря о том, что списки представляют собой упорядоченные коллекции, мы обращаем внимание на то, что каждый элемент в списке имеет свой порядковый номер.\n",
        "\n",
        "\n",
        "* Упоминание об изменяемости списков означает, что в процессе исполнения кода можно изменять состав элементов списка и последовательность их расположения.\n",
        "\n",
        "\n",
        "* Выражение «произвольных типов» означает, что в списке могут храниться данные, относящиеся к любым типам из тех, с которыми работает Python. *То есть это могут быть также другие списки и словари*\n",
        "\n",
        "\n",
        "\n"
      ]
    },
    {
      "cell_type": "markdown",
      "metadata": {
        "id": "pMa7bemd9JxZ"
      },
      "source": [
        "### 3.1 Создание списков"
      ]
    },
    {
      "cell_type": "code",
      "metadata": {
        "id": "SrhOwmXrm_Df",
        "colab": {
          "base_uri": "https://localhost:8080/"
        },
        "outputId": "0f8e8c71-fcda-4387-ba7b-568b66c70795"
      },
      "source": [
        "my_list = list() #первый способ создания пустого списка\n",
        "my_list"
      ],
      "execution_count": null,
      "outputs": [
        {
          "output_type": "execute_result",
          "data": {
            "text/plain": [
              "[]"
            ]
          },
          "metadata": {},
          "execution_count": 2
        }
      ]
    },
    {
      "cell_type": "code",
      "metadata": {
        "id": "ZCWXOwT5m_Dh",
        "colab": {
          "base_uri": "https://localhost:8080/"
        },
        "outputId": "afa2d9d0-5eb2-4e0a-8bef-709413a8bc7c"
      },
      "source": [
        "my_list1 = [] #второй способ создания пустого списка\n",
        "my_list1"
      ],
      "execution_count": null,
      "outputs": [
        {
          "output_type": "execute_result",
          "data": {
            "text/plain": [
              "[]"
            ]
          },
          "metadata": {},
          "execution_count": 3
        }
      ]
    },
    {
      "cell_type": "code",
      "metadata": {
        "id": "_qajMTeL9Jxd",
        "colab": {
          "base_uri": "https://localhost:8080/"
        },
        "outputId": "fa4ea8dc-7008-4b76-9c67-b44c2a90f08b"
      },
      "source": [
        "spisok = ['лебедь', 'рак', 'щука'] # в списке хранится 3 объекта\n",
        "spisok"
      ],
      "execution_count": null,
      "outputs": [
        {
          "output_type": "execute_result",
          "data": {
            "text/plain": [
              "['лебедь', 'рак', 'щука']"
            ]
          },
          "metadata": {},
          "execution_count": 4
        }
      ]
    },
    {
      "cell_type": "code",
      "metadata": {
        "id": "W2MWA877chhi",
        "colab": {
          "base_uri": "https://localhost:8080/"
        },
        "outputId": "4e110b8c-0656-459b-b3c2-3884793fd523"
      },
      "source": [
        "languages = ['Java', 'C', 'Python', 'C++', 'Visual Basic.NET']\n",
        "languages"
      ],
      "execution_count": null,
      "outputs": [
        {
          "output_type": "execute_result",
          "data": {
            "text/plain": [
              "['Java', 'C', 'Python', 'C++', 'Visual Basic.NET']"
            ]
          },
          "metadata": {},
          "execution_count": 5
        }
      ]
    },
    {
      "cell_type": "code",
      "source": [
        "type(range(1, 20))# 1-19"
      ],
      "metadata": {
        "id": "Wq2WH2wPtwXs",
        "colab": {
          "base_uri": "https://localhost:8080/"
        },
        "outputId": "06eed581-c67c-40dc-89d5-e6e4c6652d55"
      },
      "execution_count": null,
      "outputs": [
        {
          "output_type": "execute_result",
          "data": {
            "text/plain": [
              "range"
            ]
          },
          "metadata": {},
          "execution_count": 1
        }
      ]
    },
    {
      "cell_type": "code",
      "metadata": {
        "id": "vvnrAlurdHWM",
        "colab": {
          "base_uri": "https://localhost:8080/"
        },
        "outputId": "075d1310-e0c1-427b-ccdf-39c16e3f8e16"
      },
      "source": [
        "range_list = list(range(1, 20))\n",
        "range_list"
      ],
      "execution_count": null,
      "outputs": [
        {
          "output_type": "execute_result",
          "data": {
            "text/plain": [
              "[1, 2, 3, 4, 5, 6, 7, 8, 9, 10, 11, 12, 13, 14, 15, 16, 17, 18, 19]"
            ]
          },
          "metadata": {},
          "execution_count": 6
        }
      ]
    },
    {
      "cell_type": "markdown",
      "metadata": {
        "id": "0KQmC3aD8WnA"
      },
      "source": [
        "### 3.2 Список - последовательность"
      ]
    },
    {
      "cell_type": "markdown",
      "metadata": {
        "id": "NVxSG55f9JyH"
      },
      "source": [
        "Списки, кортежи и строки являются примерами последовательностей. Но что такое последовательности и что в них такого особенного?\n",
        "\n",
        "Основные возможности – это проверка принадлежности (т.е. выражения **“in”** и **“not in”**) и оператор индексирования, позволяющий получить напрямую некоторый элемент последовательности."
      ]
    },
    {
      "cell_type": "markdown",
      "metadata": {
        "id": "3pJFFRtim_Dl"
      },
      "source": [
        "**Индексация в Python начинается с 0**"
      ]
    },
    {
      "cell_type": "code",
      "metadata": {
        "id": "7M32XtV5Sfki",
        "colab": {
          "base_uri": "https://localhost:8080/"
        },
        "outputId": "79876403-22de-4843-dca4-5010ffadcdc2"
      },
      "source": [
        "spisok"
      ],
      "execution_count": null,
      "outputs": [
        {
          "output_type": "execute_result",
          "data": {
            "text/plain": [
              "['лебедь', 'рак', 'щука']"
            ]
          },
          "metadata": {},
          "execution_count": 7
        }
      ]
    },
    {
      "cell_type": "code",
      "metadata": {
        "id": "65B5KaCM-x15",
        "colab": {
          "base_uri": "https://localhost:8080/"
        },
        "outputId": "44675b4d-3b1c-4f4c-b867-502c514054c8"
      },
      "source": [
        "print(spisok[2]) # так мы обратились к третьему элементу списка"
      ],
      "execution_count": null,
      "outputs": [
        {
          "output_type": "stream",
          "name": "stdout",
          "text": [
            "щука\n"
          ]
        }
      ]
    },
    {
      "cell_type": "code",
      "metadata": {
        "id": "3-Y1VghU_L6P",
        "scrolled": true,
        "colab": {
          "base_uri": "https://localhost:8080/"
        },
        "outputId": "1133a707-0780-4b70-e165-fceff32cd889"
      },
      "source": [
        "spisok[1] = 'форель' # 3аменили второй элемент списка.\n",
        "print(spisok) # В отличие от строк нам не нужно перезаписывать весь объект, мы можем поменять часть списка"
      ],
      "execution_count": null,
      "outputs": [
        {
          "output_type": "stream",
          "name": "stdout",
          "text": [
            "['лебедь', 'форель', 'щука']\n"
          ]
        }
      ]
    },
    {
      "cell_type": "code",
      "metadata": {
        "scrolled": true,
        "id": "JOEQg9cim_Dn",
        "colab": {
          "base_uri": "https://localhost:8080/"
        },
        "outputId": "6c115d8c-0660-4c3e-f647-27a16a1ef260"
      },
      "source": [
        "len(spisok) #получение длины списка"
      ],
      "execution_count": null,
      "outputs": [
        {
          "output_type": "execute_result",
          "data": {
            "text/plain": [
              "3"
            ]
          },
          "metadata": {},
          "execution_count": 10
        }
      ]
    },
    {
      "cell_type": "code",
      "metadata": {
        "id": "FJdgtO-Agk6A",
        "colab": {
          "base_uri": "https://localhost:8080/"
        },
        "outputId": "eab64c43-b0f8-44a4-9f01-37d458ca0f50"
      },
      "source": [
        "'рак' in spisok"
      ],
      "execution_count": null,
      "outputs": [
        {
          "output_type": "execute_result",
          "data": {
            "text/plain": [
              "False"
            ]
          },
          "metadata": {},
          "execution_count": 11
        }
      ]
    },
    {
      "cell_type": "code",
      "metadata": {
        "id": "2S2_vH1Y_QrW",
        "colab": {
          "base_uri": "https://localhost:8080/"
        },
        "outputId": "a3808bf1-50a7-4382-85ce-7b32d99fcbce"
      },
      "source": [
        "if 'щука' in spisok: #проверка на принадлежность строки списку\n",
        "  print('Варим уху')\n",
        "else:\n",
        "  print('Сегодня без ухи')"
      ],
      "execution_count": null,
      "outputs": [
        {
          "output_type": "stream",
          "name": "stdout",
          "text": [
            "Варим уху\n"
          ]
        }
      ]
    },
    {
      "cell_type": "markdown",
      "metadata": {
        "id": "dIVtL8uhALXi"
      },
      "source": [
        "### 3.3 Срезы"
      ]
    },
    {
      "cell_type": "markdown",
      "metadata": {
        "id": "2dsRlZjpwz0T"
      },
      "source": [
        "Также последовательности предоставляют операцию получения вырезки, которая позволяет получить вырезку последовательности, т.е. её фрагмент."
      ]
    },
    {
      "cell_type": "markdown",
      "metadata": {
        "id": "tqX5mRZ__j7t"
      },
      "source": [
        "list[START:STOP:STEP] - берёт срез от номера START, до STOP **не включая его**, с шагом STEP. По умолчанию START = 0, STOP = длине объекта, STEP = 1. Соответственно, какие-нибудь (а возможно, и все) параметры могут быть опущены."
      ]
    },
    {
      "cell_type": "markdown",
      "metadata": {
        "id": "OX04Y_oP5xiu"
      },
      "source": [
        "\n",
        "\n",
        "\n",
        "\n",
        "Срезы позволяют выбрать часть списка, а не один отдельный элемент.\n",
        "\n"
      ]
    },
    {
      "cell_type": "code",
      "metadata": {
        "id": "l-hgeS7QAOwf",
        "colab": {
          "base_uri": "https://localhost:8080/"
        },
        "outputId": "bdabc08d-1588-4163-8d20-fd52d1d02425"
      },
      "source": [
        "vowels = ['а', 'е', 'ё', 'и', 'о', 'у', 'ы', 'э', 'ю', 'я']\n",
        "print(vowels[:3]) # vowels[0:3:1]\n",
        "print(vowels[5:])\n",
        "print(vowels[5:10:1])\n",
        "print(vowels[4::2])\n",
        "print(vowels[:100])\n"
      ],
      "execution_count": null,
      "outputs": [
        {
          "output_type": "stream",
          "name": "stdout",
          "text": [
            "['а', 'е', 'ё']\n",
            "['у', 'ы', 'э', 'ю', 'я']\n",
            "['у', 'ы', 'э', 'ю', 'я']\n",
            "['о', 'ы', 'ю']\n",
            "['а', 'е', 'ё', 'и', 'о', 'у', 'ы', 'э', 'ю', 'я']\n"
          ]
        }
      ]
    },
    {
      "cell_type": "markdown",
      "metadata": {
        "id": "AtYuPWwSc5kW"
      },
      "source": [
        "**Задача**:\n",
        "\n",
        "Выберите с помощью индексов элементы **о** & **у**"
      ]
    },
    {
      "cell_type": "markdown",
      "metadata": {
        "id": "DRqstxGC6cCo"
      },
      "source": [
        "Отрицательные индексы"
      ]
    },
    {
      "cell_type": "markdown",
      "source": [],
      "metadata": {
        "id": "TpyuJqMrcb76"
      }
    },
    {
      "cell_type": "code",
      "source": [
        "vowels = ['а', 'е', 'ё', 'и', 'о', 'у', 'ы', 'э', 'ю', 'я']"
      ],
      "metadata": {
        "id": "FmAEgzGO1-Mq"
      },
      "execution_count": null,
      "outputs": []
    },
    {
      "cell_type": "code",
      "source": [
        "vowels[-3:-1]"
      ],
      "metadata": {
        "colab": {
          "base_uri": "https://localhost:8080/"
        },
        "id": "hBXkdSBWlEt0",
        "outputId": "42980f4e-407c-4838-d707-35ef2029cc22"
      },
      "execution_count": null,
      "outputs": [
        {
          "output_type": "execute_result",
          "data": {
            "text/plain": [
              "['э', 'ю']"
            ]
          },
          "metadata": {},
          "execution_count": 20
        }
      ]
    },
    {
      "cell_type": "code",
      "metadata": {
        "id": "VFShM5Jc6aUS"
      },
      "source": [
        "vowels_recur = vowels[:: -1]"
      ],
      "execution_count": null,
      "outputs": []
    },
    {
      "cell_type": "code",
      "source": [
        "vowels"
      ],
      "metadata": {
        "id": "12yOUDOSDlEZ",
        "colab": {
          "base_uri": "https://localhost:8080/"
        },
        "outputId": "b6653f99-3ef6-429b-a234-e643302b9fc5"
      },
      "execution_count": null,
      "outputs": [
        {
          "output_type": "execute_result",
          "data": {
            "text/plain": [
              "['а', 'е', 'ё', 'и', 'о', 'у', 'ы', 'э', 'ю', 'я']"
            ]
          },
          "metadata": {},
          "execution_count": 22
        }
      ]
    },
    {
      "cell_type": "code",
      "source": [
        "vowels_recur"
      ],
      "metadata": {
        "id": "X6w45PP_czTE",
        "colab": {
          "base_uri": "https://localhost:8080/"
        },
        "outputId": "06bacb02-e42c-4a50-abbc-7c8bec5b12cf"
      },
      "execution_count": null,
      "outputs": [
        {
          "output_type": "execute_result",
          "data": {
            "text/plain": [
              "['я', 'ю', 'э', 'ы', 'у', 'о', 'и', 'ё', 'е', 'а']"
            ]
          },
          "metadata": {},
          "execution_count": 23
        }
      ]
    },
    {
      "cell_type": "code",
      "source": [
        "vowels[-5:-1]"
      ],
      "metadata": {
        "id": "eqFXB26lDnS8",
        "colab": {
          "base_uri": "https://localhost:8080/"
        },
        "outputId": "2dedc4d5-3a99-4bd2-cf1e-5a419821f9dc"
      },
      "execution_count": null,
      "outputs": [
        {
          "output_type": "execute_result",
          "data": {
            "text/plain": [
              "['у', 'ы', 'э', 'ю']"
            ]
          },
          "metadata": {},
          "execution_count": 24
        }
      ]
    },
    {
      "cell_type": "markdown",
      "metadata": {
        "id": "qRY4uYxidct8"
      },
      "source": [
        "**Задача**\n",
        "\n",
        "Создайте список из чисел от -1 до 25. Затем сделайте срез, чтобы в ответе был следующий список: [-1, 1, 3, 5, 7]. В качестве ответа напишите через запятую два числа, являющихся границами среза.\n"
      ]
    },
    {
      "cell_type": "code",
      "source": [
        "a = list(range(-1,26))\n",
        "print(a[:9:2])\n",
        "print(a)"
      ],
      "metadata": {
        "colab": {
          "base_uri": "https://localhost:8080/"
        },
        "id": "C1CWOc-avrPZ",
        "outputId": "0d1d96f6-54c3-4366-d847-f53b03f498d8"
      },
      "execution_count": null,
      "outputs": [
        {
          "output_type": "stream",
          "name": "stdout",
          "text": [
            "[-1, 1, 3, 5, 7]\n",
            "[-1, 0, 1, 2, 3, 4, 5, 6, 7, 8, 9, 10, 11, 12, 13, 14, 15, 16, 17, 18, 19, 20, 21, 22, 23, 24, 25]\n"
          ]
        }
      ]
    },
    {
      "cell_type": "code",
      "source": [
        "my_list = list(range(-1, 26))\n",
        "a = my_list[:10:2]\n",
        "print(a)\n",
        "print(my_list)"
      ],
      "metadata": {
        "colab": {
          "base_uri": "https://localhost:8080/"
        },
        "id": "VWLQWplNvrkB",
        "outputId": "17720302-4acd-4450-8f7d-5d80eceeb5c9"
      },
      "execution_count": null,
      "outputs": [
        {
          "output_type": "stream",
          "name": "stdout",
          "text": [
            "[-1, 1, 3, 5, 7]\n",
            "[-1, 0, 1, 2, 3, 4, 5, 6, 7, 8, 9, 10, 11, 12, 13, 14, 15, 16, 17, 18, 19, 20, 21, 22, 23, 24]\n"
          ]
        }
      ]
    },
    {
      "cell_type": "markdown",
      "metadata": {
        "id": "ycQx9qa0m_Dt"
      },
      "source": [
        "### 3.4 Операции со списками"
      ]
    },
    {
      "cell_type": "markdown",
      "metadata": {
        "id": "6CWvdLH-C54G"
      },
      "source": [
        "В список можно добавлять элементы\n",
        "\n",
        "Давайте вернем щуку в наш список, но не заменим ей форель, а как бы добавим скраю.\n",
        "\n",
        "Для этой операции у нас есть метод `append()`. Он добавляет элемент справа (что делает эту операцию достаточно быстрой, в отличие от добавления элемента, например, с левого края)"
      ]
    },
    {
      "cell_type": "code",
      "metadata": {
        "id": "V5Y2aVgeDQ5q",
        "colab": {
          "base_uri": "https://localhost:8080/"
        },
        "outputId": "b3254ed1-40c0-419d-abc3-c7946369f4b7"
      },
      "source": [
        "spisok = ['лебедь', 'рак', 'форель']\n",
        "spisok.append('щука')\n",
        "spisok"
      ],
      "execution_count": null,
      "outputs": [
        {
          "output_type": "execute_result",
          "data": {
            "text/plain": [
              "['лебедь', 'рак', 'форель', 'щука']"
            ]
          },
          "metadata": {},
          "execution_count": 29
        }
      ]
    },
    {
      "cell_type": "markdown",
      "metadata": {
        "id": "lDptiYpUdyUm"
      },
      "source": [
        "**Задача:**\n",
        "\n",
        "Даны 3 переменные, содержащие в себе информацию о заказах, составьте пустой список orders и добавьте в него все заказы"
      ]
    },
    {
      "cell_type": "code",
      "metadata": {
        "id": "NA1S0O03d6qU",
        "colab": {
          "base_uri": "https://localhost:8080/"
        },
        "outputId": "615af9ed-979f-4ee3-af0c-6307b718dda4"
      },
      "source": [
        "order1 = 'Заказ: рыба, молоко, яйца'\n",
        "order2 = 'Заказ: молоко, хлебцы, буженина'\n",
        "order3 = 'Заказ: батон, вода'\n",
        "orders = []\n",
        "orders.append(order1)\n",
        "orders.append(order2)\n",
        "orders.append(order3)\n",
        "orders.append(\"Заказ: хлеб, сыр, молоко\")\n",
        "print(orders)"
      ],
      "execution_count": null,
      "outputs": [
        {
          "output_type": "stream",
          "name": "stdout",
          "text": [
            "['Заказ: рыба, молоко, яйца', 'Заказ: молоко, хлебцы, буженина', 'Заказ: батон, вода', 'Заказ: хлеб, сыр, молоко']\n"
          ]
        }
      ]
    },
    {
      "cell_type": "markdown",
      "metadata": {
        "id": "F1hYiVKtejY8"
      },
      "source": [
        "Список можно расширять значениями из другого списка. Для этого используется метод `extend()`:"
      ]
    },
    {
      "cell_type": "code",
      "metadata": {
        "id": "cPgQKz0qfEYZ",
        "colab": {
          "base_uri": "https://localhost:8080/"
        },
        "outputId": "bc8aefde-9f7b-4c16-d52c-763bb635a797"
      },
      "source": [
        "a = [\"Красноярский край\", \"Саратовская область\", \"Якутия\"]\n",
        "b = [\"Республика Крым\", \"Калининградская область\"]\n",
        "a.extend(b)\n",
        "print(a)"
      ],
      "execution_count": null,
      "outputs": [
        {
          "output_type": "stream",
          "name": "stdout",
          "text": [
            "['Красноярский край', 'Саратовская область', 'Якутия', 'Республика Крым', 'Калининградская область']\n"
          ]
        }
      ]
    },
    {
      "cell_type": "markdown",
      "metadata": {
        "id": "u14YzxPmfOx-"
      },
      "source": [
        "**Задача:**\n",
        "\n",
        "Вам даны наблюдения температуры воздуха за определенный период. К вам приходят новые наблюдения. Объедините данные в единый список\n"
      ]
    },
    {
      "cell_type": "code",
      "source": [
        "temp_old = [30, 32, 24.5, 26.7]\n",
        "temp_new = [25.6, 28, 32, 34]\n",
        "\n",
        "temp_old.extend(temp_new)\n",
        "print(temp_old)"
      ],
      "metadata": {
        "id": "iQZM411z6rwa",
        "colab": {
          "base_uri": "https://localhost:8080/"
        },
        "outputId": "635d01b7-cd8e-4de4-a85f-956490183045"
      },
      "execution_count": null,
      "outputs": [
        {
          "output_type": "stream",
          "name": "stdout",
          "text": [
            "[30, 32, 24.5, 26.7, 25.6, 28, 32, 34]\n"
          ]
        }
      ]
    },
    {
      "cell_type": "markdown",
      "metadata": {
        "id": "g6AHeIyCDprC"
      },
      "source": [
        "\n",
        "Итак, мы разобрались с добавлением элементов и его расширением, теперь давайте узнаем как удалять элементы списка\n",
        "\n",
        "Для этого у нас есть метод `revome()`, который принимает в качестве аргумента элемент, который мы хотим удалить\n",
        "\n"
      ]
    },
    {
      "cell_type": "code",
      "metadata": {
        "id": "UlxR4jtGAUYp",
        "colab": {
          "base_uri": "https://localhost:8080/"
        },
        "outputId": "4a433116-6686-466a-f421-9219cb42e91a"
      },
      "source": [
        "spisok = ['лебедь', 'рак', 'форель', 'лебедь']\n",
        "spisok.remove('лебедь')\n",
        "spisok"
      ],
      "execution_count": null,
      "outputs": [
        {
          "output_type": "execute_result",
          "data": {
            "text/plain": [
              "['рак', 'форель', 'лебедь']"
            ]
          },
          "metadata": {},
          "execution_count": 33
        }
      ]
    },
    {
      "cell_type": "markdown",
      "metadata": {
        "id": "i9BQ1d5hvwTE"
      },
      "source": [
        "Для удаления элементов по индексу используется метод `pop()`:"
      ]
    },
    {
      "cell_type": "code",
      "metadata": {
        "id": "UPUuf00Yv4Ku",
        "colab": {
          "base_uri": "https://localhost:8080/"
        },
        "outputId": "1cc3ab58-ba0f-42d7-d45c-5eaad35fc3f9"
      },
      "source": [
        "languages = ['Java', 'C', 'Python', 'C++', 'Visual Basic.NET']\n",
        "pop_item = languages.pop(3)\n",
        "print(pop_item)\n",
        "print(languages)"
      ],
      "execution_count": null,
      "outputs": [
        {
          "output_type": "stream",
          "name": "stdout",
          "text": [
            "C++\n",
            "['Java', 'C', 'Python', 'Visual Basic.NET']\n"
          ]
        }
      ]
    },
    {
      "cell_type": "markdown",
      "metadata": {
        "id": "fZkSN2BZAwNx"
      },
      "source": [
        "Отсортируем наш список с помощью метода `sort()`. Параметр reverse обозначает сортировку по убыванию (в порядке, обратному алфавитному)"
      ]
    },
    {
      "cell_type": "code",
      "source": [
        "spisok = ['форель', 'рак', 'лебедь']"
      ],
      "metadata": {
        "id": "UZe-58rbH7Dl"
      },
      "execution_count": null,
      "outputs": []
    },
    {
      "cell_type": "code",
      "metadata": {
        "id": "Dnm5LOkTAvcm",
        "colab": {
          "base_uri": "https://localhost:8080/"
        },
        "outputId": "e8ba16cc-2eb8-4a9e-d2da-656262270a81"
      },
      "source": [
        "spisok.sort()\n",
        "spisok"
      ],
      "execution_count": null,
      "outputs": [
        {
          "output_type": "execute_result",
          "data": {
            "text/plain": [
              "['лебедь', 'рак', 'форель']"
            ]
          },
          "metadata": {},
          "execution_count": 36
        }
      ]
    },
    {
      "cell_type": "code",
      "source": [
        "spisok.sort(reverse=True)\n",
        "spisok"
      ],
      "metadata": {
        "id": "yURPKH9tgnLz",
        "colab": {
          "base_uri": "https://localhost:8080/"
        },
        "outputId": "81993474-7cb2-4e60-ea9c-5f88684bfd06"
      },
      "execution_count": null,
      "outputs": [
        {
          "output_type": "execute_result",
          "data": {
            "text/plain": [
              "['форель', 'рак', 'лебедь']"
            ]
          },
          "metadata": {},
          "execution_count": 37
        }
      ]
    },
    {
      "cell_type": "code",
      "metadata": {
        "id": "DbcPp1KTZ2r4",
        "colab": {
          "base_uri": "https://localhost:8080/"
        },
        "outputId": "f36c674a-9885-431a-dafc-680d668a2f5d"
      },
      "source": [
        "languages = ['Java', 'C', 'Python', 'C++', 'Visual Basic.NET']\n",
        "languages.reverse()\n",
        "languages"
      ],
      "execution_count": null,
      "outputs": [
        {
          "output_type": "execute_result",
          "data": {
            "text/plain": [
              "['Visual Basic.NET', 'C++', 'Python', 'C', 'Java']"
            ]
          },
          "metadata": {},
          "execution_count": 39
        }
      ]
    },
    {
      "cell_type": "code",
      "source": [
        "languages = ['Java', 'C', 'Python', 'C++', 'Visual Basic.NET']\n",
        "new_languages = languages[::-1]\n",
        "new_languages"
      ],
      "metadata": {
        "id": "ZQtLY6v3Z1a4",
        "colab": {
          "base_uri": "https://localhost:8080/"
        },
        "outputId": "bcc66fc6-a3ff-463f-83d2-22a0de80f7b0"
      },
      "execution_count": null,
      "outputs": [
        {
          "output_type": "execute_result",
          "data": {
            "text/plain": [
              "['Visual Basic.NET', 'C++', 'Python', 'C', 'Java']"
            ]
          },
          "metadata": {},
          "execution_count": 40
        }
      ]
    },
    {
      "cell_type": "code",
      "source": [
        "languages"
      ],
      "metadata": {
        "id": "icdciZ5JZ7AY",
        "colab": {
          "base_uri": "https://localhost:8080/"
        },
        "outputId": "e7823f95-ec2d-44ac-b98e-2197002be478"
      },
      "execution_count": null,
      "outputs": [
        {
          "output_type": "execute_result",
          "data": {
            "text/plain": [
              "['Java', 'C', 'Python', 'C++', 'Visual Basic.NET']"
            ]
          },
          "metadata": {},
          "execution_count": 41
        }
      ]
    },
    {
      "cell_type": "markdown",
      "metadata": {
        "id": "USe_Gb0MBGgA"
      },
      "source": [
        "Помимо перечисленных выше методов у списка есть еще огромный арсенал возможностей. Подробнее со всеми ними вы можете познакомиться по ссылочке:https://pythonworld.ru/tipy-dannyx-v-python/spiski-list-funkcii-i-metody-spiskov.html"
      ]
    },
    {
      "cell_type": "markdown",
      "metadata": {
        "id": "I-bhnWGgH8vv"
      },
      "source": [
        "Рассмотрим еще несколько фишечек со списками:"
      ]
    },
    {
      "cell_type": "code",
      "metadata": {
        "id": "7tnpBV0KICsH",
        "colab": {
          "base_uri": "https://localhost:8080/"
        },
        "outputId": "ab0692ec-2aee-4229-d993-cb43984d536d"
      },
      "source": [
        "a = [5, '1', '124', 'hello'] + [14, 141, 5] #конкатенация списков\n",
        "a\n"
      ],
      "execution_count": null,
      "outputs": [
        {
          "output_type": "execute_result",
          "data": {
            "text/plain": [
              "[5, '1', '124', 'hello', 14, 141, 5]"
            ]
          },
          "metadata": {},
          "execution_count": 42
        }
      ]
    },
    {
      "cell_type": "code",
      "metadata": {
        "id": "Bqf50LykILyi",
        "colab": {
          "base_uri": "https://localhost:8080/"
        },
        "outputId": "cb30be68-8e00-42d3-9073-cf299609faad"
      },
      "source": [
        "[14, 141] * 5 #умножение списка"
      ],
      "execution_count": null,
      "outputs": [
        {
          "output_type": "execute_result",
          "data": {
            "text/plain": [
              "[14, 141, 14, 141, 14, 141, 14, 141, 14, 141]"
            ]
          },
          "metadata": {},
          "execution_count": 43
        }
      ]
    },
    {
      "cell_type": "markdown",
      "metadata": {
        "id": "LPAcIQGJwTF7"
      },
      "source": [
        "Агрегирующие функции/методы для списков\n"
      ]
    },
    {
      "cell_type": "code",
      "metadata": {
        "id": "Q_OG3w4kwXFW",
        "colab": {
          "base_uri": "https://localhost:8080/"
        },
        "outputId": "1427d9ca-6e4e-436d-c96b-89a864956734"
      },
      "source": [
        "temp_new = [19.8, 15.3, 18.4, 10.4, 8.1, 5.0]\n",
        "sum(temp_new)"
      ],
      "execution_count": null,
      "outputs": [
        {
          "output_type": "execute_result",
          "data": {
            "text/plain": [
              "77.0"
            ]
          },
          "metadata": {},
          "execution_count": 44
        }
      ]
    },
    {
      "cell_type": "code",
      "metadata": {
        "id": "_VUnE59qweOr",
        "colab": {
          "base_uri": "https://localhost:8080/"
        },
        "outputId": "c4d01357-dbb6-48b2-888a-d42fcae51206"
      },
      "source": [
        "temp_new = [19.8, 15.3, 18.4, 10.4, 8.1, 5.0]\n",
        "sum(temp_new)/len(temp_new)"
      ],
      "execution_count": null,
      "outputs": [
        {
          "output_type": "execute_result",
          "data": {
            "text/plain": [
              "12.833333333333334"
            ]
          },
          "metadata": {},
          "execution_count": 45
        }
      ]
    },
    {
      "cell_type": "code",
      "metadata": {
        "id": "9O9k1Q15whZh",
        "colab": {
          "base_uri": "https://localhost:8080/"
        },
        "outputId": "8dde0b5a-98ea-4c52-c145-ed46968f16be"
      },
      "source": [
        "temp_new = [19.8, 15.3, 18.4, 10.4, 8.1, 5.0]\n",
        "max(temp_new)"
      ],
      "execution_count": null,
      "outputs": [
        {
          "output_type": "execute_result",
          "data": {
            "text/plain": [
              "19.8"
            ]
          },
          "metadata": {},
          "execution_count": 46
        }
      ]
    },
    {
      "cell_type": "code",
      "metadata": {
        "id": "_BpDWpMLwkzW",
        "colab": {
          "base_uri": "https://localhost:8080/"
        },
        "outputId": "dc4b092f-e346-4d13-e324-854ba55e7879"
      },
      "source": [
        "temp_new = [19.8, 15.3, 18.4, 10.4, 8.1, 5.0]\n",
        "min(temp_new)"
      ],
      "execution_count": null,
      "outputs": [
        {
          "output_type": "execute_result",
          "data": {
            "text/plain": [
              "5.0"
            ]
          },
          "metadata": {},
          "execution_count": 47
        }
      ]
    },
    {
      "cell_type": "code",
      "metadata": {
        "id": "GaGdf4jzw0kf",
        "colab": {
          "base_uri": "https://localhost:8080/"
        },
        "outputId": "a5a6ec5b-cbac-480c-fe44-4870915554df"
      },
      "source": [
        "sex_feature = ['men', 'women', 'women',\n",
        "              'men', 'women', 'women',\n",
        "              'men', 'women', 'men', 'men']\n",
        "sex_feature.count('women')"
      ],
      "execution_count": null,
      "outputs": [
        {
          "output_type": "execute_result",
          "data": {
            "text/plain": [
              "5"
            ]
          },
          "metadata": {},
          "execution_count": 48
        }
      ]
    },
    {
      "cell_type": "markdown",
      "metadata": {
        "id": "9ajno0rag7Rl"
      },
      "source": [
        "### 3.6. Вложенные списки\n",
        "\n"
      ]
    },
    {
      "cell_type": "markdown",
      "metadata": {
        "id": "JBAn5C3XDALj"
      },
      "source": [
        "Элементом списка может быть любой объект в питоне, в том числе и другой список. Порой встречаются такие структуры как списки в списках, или \"вложенный список\"."
      ]
    },
    {
      "cell_type": "code",
      "metadata": {
        "id": "r4HgZuJ6hNpY",
        "scrolled": true,
        "colab": {
          "base_uri": "https://localhost:8080/"
        },
        "outputId": "e71f519f-afb1-4880-c45c-6bc1d69af0ae"
      },
      "source": [
        "array_of_arrays = [\n",
        "                   [1, 2, 3],\n",
        "                   [4, 5, 3],\n",
        "                   [7, 2, 5]\n",
        "                   ]\n",
        "# у нас есть список array_of_arrays, который состоит из трех элементов\n",
        "# мы можем получить каждый из этих трех элементов с помощью индекса\n",
        "array_of_arrays[1][1]"
      ],
      "execution_count": null,
      "outputs": [
        {
          "output_type": "execute_result",
          "data": {
            "text/plain": [
              "5"
            ]
          },
          "metadata": {},
          "execution_count": 49
        }
      ]
    },
    {
      "cell_type": "markdown",
      "metadata": {
        "id": "wDzymhD6Lp_A"
      },
      "source": [
        "Задача:\n",
        "Cоздайте матрицу 3х3 у которой на диагонали будут стоять значение корня из 2"
      ]
    },
    {
      "cell_type": "code",
      "metadata": {
        "id": "KqQuXDZNXs4Y",
        "colab": {
          "base_uri": "https://localhost:8080/"
        },
        "outputId": "2e140cb1-1a63-4e2f-e019-8ac6d7026a20"
      },
      "source": [
        "array = [\n",
        "         [0]*3,\n",
        "         [0]*3,\n",
        "         [0]*3\n",
        "         ]\n",
        "#print(array)\n",
        "array[0][0] = 2**0.5\n",
        "array[1][1] = 2**0.5\n",
        "array[2][2] = 2**0.5\n",
        "array"
      ],
      "execution_count": null,
      "outputs": [
        {
          "output_type": "execute_result",
          "data": {
            "text/plain": [
              "[[1.4142135623730951, 0, 0],\n",
              " [0, 1.4142135623730951, 0],\n",
              " [0, 0, 1.4142135623730951]]"
            ]
          },
          "metadata": {},
          "execution_count": 50
        }
      ]
    },
    {
      "cell_type": "markdown",
      "metadata": {
        "id": "y9QyIRiXFhXr"
      },
      "source": [
        "### 3.7 Практический кейс на списки"
      ]
    },
    {
      "cell_type": "markdown",
      "metadata": {
        "id": "eXeS9brNyO08"
      },
      "source": [
        "В вашем распоряжении есть некоторая информация о пользователях банка и их статусе: ушли ли они от нас или нет. Необходимо организовать программу, которая:\n",
        "  * Расчитает среднее по признаку кредитного рейтинга для ушедших клиентов\n",
        "  * Средний возраст всех клиентов\n",
        "  * Долю ушедших клиентов\n",
        "  * Выведет идентификаторы клиентов, которые ушли от банка"
      ]
    },
    {
      "cell_type": "code",
      "metadata": {
        "id": "BZ-A3v8OziwY"
      },
      "source": [
        "users = [\n",
        "         [15634602, 15647311, 15619304, 15701354],#'CustomerId'\n",
        "         ['Hargrave', 'Hill', 'Onio', 'Boni'],#'Surname'\n",
        "         [ 619, 608, 502, 699], #'CreditScore'\n",
        "         ['Female', 'Female', 'Male', 'Female'], #'Gender'\n",
        "         [ 42, 41, 42, 39], #'Age'\n",
        "         [1, 0, 1, 0] #Exited\n",
        "         ]"
      ],
      "execution_count": null,
      "outputs": []
    },
    {
      "cell_type": "markdown",
      "metadata": {
        "id": "0rjsQq8G9J2v"
      },
      "source": [
        "## 4. Словарь"
      ]
    },
    {
      "cell_type": "markdown",
      "metadata": {
        "id": "vVCdYjHntQJD"
      },
      "source": [
        "### 4.0 Определение словаря"
      ]
    },
    {
      "cell_type": "markdown",
      "metadata": {
        "id": "3heTmd3E9J2w"
      },
      "source": [
        "Список хорош, когда он один. Но зачастую у нас возникает необходимость хранить несколько связанных списков.\n",
        "Например, номера телефонов и имена покупателей. Или название продуктов и их стоимость. В python есть особый тип данных для хранения такой информации в удобной форме - словарь"
      ]
    },
    {
      "cell_type": "markdown",
      "metadata": {
        "id": "7i93VWLn9J2w"
      },
      "source": [
        "Словарь в Python - неупорядоченная ассоциативная изменяемая коллекция произвольных типов\n",
        "\n",
        "Снова разбираем по словам:\n",
        "  1. Неупорядоченная структура означает, что элементы в словаре хранятся в произвольном порядке и не имеют номера\n",
        "  2. В отличие от последовательностей, которые индексируются диапазоном чисел, словари индексируются по ключам, которые могут быть любым **неизменяемым** типом; строки и числа всегда могут быть ключами.\n",
        "  3. Изменяемая - словари можно изменять: добавлять, удалять и заменять элементы и ключи\n",
        "  4. Произвольных типов означает, что в словаре, как и в списке хранятся элементы любой природы: числа, строки, списки, словари и.т.д.\n"
      ]
    },
    {
      "cell_type": "markdown",
      "metadata": {
        "id": "5OlCrQFlKQU8"
      },
      "source": [
        "### 4.1 Создание словаря и получение его элементов"
      ]
    },
    {
      "cell_type": "code",
      "metadata": {
        "id": "f81OTt3RxSia"
      },
      "source": [
        "my_dict = {} #создание пустого словаря\n",
        "my_dict"
      ],
      "execution_count": null,
      "outputs": []
    },
    {
      "cell_type": "code",
      "metadata": {
        "id": "s3NhVRZsxUeo"
      },
      "source": [
        "my_dict = dict() #другой способ создания пустого словаря\n",
        "my_dict"
      ],
      "execution_count": null,
      "outputs": []
    },
    {
      "cell_type": "markdown",
      "metadata": {
        "id": "58Pmt4QIaHQW"
      },
      "source": [
        "Создадим словарь продуктов и их цен\n"
      ]
    },
    {
      "cell_type": "code",
      "metadata": {
        "id": "4QvNxKUG9J2z"
      },
      "source": [
        "fruit_dict = {\n",
        "    'Банан': '16 рублей',\n",
        "    'Яблоко': '28 рублей',\n",
        "    'Персик': '37 рублей',\n",
        "    'Манго': '100 рублей',\n",
        "    'Апельсин': '30 рублей'\n",
        "    }\n",
        "fruit_dict"
      ],
      "execution_count": null,
      "outputs": []
    },
    {
      "cell_type": "markdown",
      "metadata": {
        "id": "bzh-kkuA39C0"
      },
      "source": [
        "Создание словарей из двух списков можно осуществить с помощью функции `zip`:\n"
      ]
    },
    {
      "cell_type": "code",
      "source": [
        "fruits = ['Банан', 'Яблоко', 'Персик', 'Манго', 'Апельсин']\n",
        "prices = ['16 рублей','28 рублей','37 рублей','100 рублей','30 рублей']\n",
        "list(zip(fruits, prices))"
      ],
      "metadata": {
        "id": "IhGwUhyq7H-z",
        "colab": {
          "base_uri": "https://localhost:8080/"
        },
        "outputId": "e3143734-08c6-4f20-b691-e6a8416dc37a"
      },
      "execution_count": null,
      "outputs": [
        {
          "output_type": "execute_result",
          "data": {
            "text/plain": [
              "[('Банан', '16 рублей'),\n",
              " ('Яблоко', '28 рублей'),\n",
              " ('Персик', '37 рублей'),\n",
              " ('Манго', '100 рублей'),\n",
              " ('Апельсин', '30 рублей')]"
            ]
          },
          "metadata": {},
          "execution_count": 51
        }
      ]
    },
    {
      "cell_type": "code",
      "metadata": {
        "id": "cHqS2eE74CWT",
        "colab": {
          "base_uri": "https://localhost:8080/"
        },
        "outputId": "cb46a01a-952a-426e-96ac-a6460c6d2105"
      },
      "source": [
        "fruits = ['Банан', 'Яблоко', 'Персик', 'Манго', 'Апельсин']\n",
        "prices = ['16 рублей','28 рублей','37 рублей','100 рублей','30 рублей']\n",
        "fruit_dict = dict(zip(fruits, prices))\n",
        "fruit_dict"
      ],
      "execution_count": null,
      "outputs": [
        {
          "output_type": "execute_result",
          "data": {
            "text/plain": [
              "{'Банан': '16 рублей',\n",
              " 'Яблоко': '28 рублей',\n",
              " 'Персик': '37 рублей',\n",
              " 'Манго': '100 рублей',\n",
              " 'Апельсин': '30 рублей'}"
            ]
          },
          "metadata": {},
          "execution_count": 52
        }
      ]
    },
    {
      "cell_type": "code",
      "metadata": {
        "id": "1R1nL7xFK9_F",
        "colab": {
          "base_uri": "https://localhost:8080/"
        },
        "outputId": "53618c23-da30-4ecf-b4a3-86425b81c54e"
      },
      "source": [
        "#Обращаемся к элементу с помощью ключа\n",
        "print(fruit_dict['Банан'])\n",
        "print(fruit_dict['Апельсин'])"
      ],
      "execution_count": null,
      "outputs": [
        {
          "output_type": "stream",
          "name": "stdout",
          "text": [
            "16 рублей\n",
            "30 рублей\n"
          ]
        }
      ]
    },
    {
      "cell_type": "code",
      "metadata": {
        "id": "WadUm5vcLVj9",
        "colab": {
          "base_uri": "https://localhost:8080/",
          "height": 181
        },
        "outputId": "80797bb4-c982-4cee-d7e5-bc548d9af583"
      },
      "source": [
        "fruit_dict['Вишня']"
      ],
      "execution_count": null,
      "outputs": [
        {
          "output_type": "error",
          "ename": "KeyError",
          "evalue": "'Вишня'",
          "traceback": [
            "\u001b[0;31m---------------------------------------------------------------------------\u001b[0m",
            "\u001b[0;31mKeyError\u001b[0m                                  Traceback (most recent call last)",
            "\u001b[0;32m<ipython-input-54-fbf2fb41c159>\u001b[0m in \u001b[0;36m<cell line: 1>\u001b[0;34m()\u001b[0m\n\u001b[0;32m----> 1\u001b[0;31m \u001b[0mfruit_dict\u001b[0m\u001b[0;34m[\u001b[0m\u001b[0;34m'Вишня'\u001b[0m\u001b[0;34m]\u001b[0m\u001b[0;34m\u001b[0m\u001b[0;34m\u001b[0m\u001b[0m\n\u001b[0m",
            "\u001b[0;31mKeyError\u001b[0m: 'Вишня'"
          ]
        }
      ]
    },
    {
      "cell_type": "code",
      "metadata": {
        "id": "FzOkM0EbuvB0",
        "colab": {
          "base_uri": "https://localhost:8080/"
        },
        "outputId": "00743c8a-132f-4d6b-9fe0-1e21f61c70f7"
      },
      "source": [
        "if 'Вишня' not in fruit_dict:\n",
        "    print('Нет в словаре')\n",
        "\n",
        "else:\n",
        "    print(fruit_dict['Вишня'])"
      ],
      "execution_count": null,
      "outputs": [
        {
          "output_type": "stream",
          "name": "stdout",
          "text": [
            "Нет в словаре\n"
          ]
        }
      ]
    },
    {
      "cell_type": "markdown",
      "metadata": {
        "id": "A4xWbvXHKzyl"
      },
      "source": [
        "### 4.2 Ключи и значения словаря"
      ]
    },
    {
      "cell_type": "markdown",
      "metadata": {
        "id": "ln6_COB-m_D-"
      },
      "source": [
        "Получить ключи и значения словарей можно с помощью методов: keys(), values() и items()"
      ]
    },
    {
      "cell_type": "code",
      "metadata": {
        "id": "N9P3b3uM6JN7",
        "colab": {
          "base_uri": "https://localhost:8080/"
        },
        "outputId": "1f013eec-acb4-4005-91af-08b9f712a485"
      },
      "source": [
        "user_dict = {\n",
        "    'id': 532,\n",
        "    'name': 'Ксения',\n",
        "    'surmame': 'Собчак',\n",
        "    'age': 40,\n",
        "    'gender': 'female',\n",
        "    'mail': 'sobchak@yandex.ru',\n",
        "    'count_orders': 1402\n",
        "}\n",
        "\n",
        "values = list(user_dict.values())\n",
        "values"
      ],
      "execution_count": null,
      "outputs": [
        {
          "output_type": "execute_result",
          "data": {
            "text/plain": [
              "[532, 'Ксения', 'Собчак', 40, 'female', 'sobchak@yandex.ru', 1402]"
            ]
          },
          "metadata": {},
          "execution_count": 56
        }
      ]
    },
    {
      "cell_type": "code",
      "metadata": {
        "scrolled": true,
        "id": "m2npiEVEm_D_",
        "colab": {
          "base_uri": "https://localhost:8080/"
        },
        "outputId": "16a6b193-0e5a-4201-f235-f6e4c3eb1698"
      },
      "source": [
        "features = list(user_dict.keys())\n",
        "features"
      ],
      "execution_count": null,
      "outputs": [
        {
          "output_type": "execute_result",
          "data": {
            "text/plain": [
              "['id', 'name', 'surmame', 'age', 'gender', 'mail', 'count_orders']"
            ]
          },
          "metadata": {},
          "execution_count": 57
        }
      ]
    },
    {
      "cell_type": "code",
      "metadata": {
        "id": "ZCPzLUVxm_D_",
        "colab": {
          "base_uri": "https://localhost:8080/"
        },
        "outputId": "68bb0bd6-c209-44bb-84ee-f0312b3e9bbc"
      },
      "source": [
        "features_items = list(user_dict.items())\n",
        "features_items"
      ],
      "execution_count": null,
      "outputs": [
        {
          "output_type": "execute_result",
          "data": {
            "text/plain": [
              "[('id', 532),\n",
              " ('name', 'Ксения'),\n",
              " ('surmame', 'Собчак'),\n",
              " ('age', 40),\n",
              " ('gender', 'female'),\n",
              " ('mail', 'sobchak@yandex.ru'),\n",
              " ('count_orders', 1402)]"
            ]
          },
          "metadata": {},
          "execution_count": 58
        }
      ]
    },
    {
      "cell_type": "markdown",
      "metadata": {
        "id": "AFRIVnWlm_EG"
      },
      "source": [
        "### 4.3 Операции со словарями"
      ]
    },
    {
      "cell_type": "code",
      "metadata": {
        "id": "CcnPNRLM1C_R"
      },
      "source": [
        "employee_base = {\n",
        "    'Мария Никитина': 'менеджер',\n",
        "    'Егор Савичев': 'разработчик',\n",
        "\n",
        "    'Александр Пахомов': 'дизайнер',\n",
        "    'Алина Егорова': 'разработчик',\n",
        "    'Руслан Башаров': 'верстальщик'}"
      ],
      "execution_count": null,
      "outputs": []
    },
    {
      "cell_type": "markdown",
      "metadata": {
        "id": "cX4qNCJq3WLi"
      },
      "source": [
        "Рассмотрим самый базовый синтаксис добавления нового ключа и значения в словарь. Заметьте, что такой же синтаксис работает и на замену существующего значения на новое по ключу"
      ]
    },
    {
      "cell_type": "code",
      "metadata": {
        "id": "zozYMjIkm_EG",
        "colab": {
          "base_uri": "https://localhost:8080/"
        },
        "outputId": "6846682c-8117-4255-8661-2cbbfe538688"
      },
      "source": [
        "employee_base['Егор Зимин'] = 'разработчик' #добавление в словарь\n",
        "employee_base['Мария Никитина'] = 'старший менеджер' #замена значения по ключу\n",
        "employee_base"
      ],
      "execution_count": null,
      "outputs": [
        {
          "output_type": "execute_result",
          "data": {
            "text/plain": [
              "{'Мария Никитина': 'старший менеджер',\n",
              " 'Егор Савичев': 'разработчик',\n",
              " 'Александр Пахомов': 'дизайнер',\n",
              " 'Алина Егорова': 'разработчик',\n",
              " 'Руслан Башаров': 'верстальщик',\n",
              " 'Егор Зимин': 'разработчик'}"
            ]
          },
          "metadata": {},
          "execution_count": 61
        }
      ]
    },
    {
      "cell_type": "markdown",
      "metadata": {
        "id": "vg12puK54hqN"
      },
      "source": [
        "**Задача:**\n",
        "\n",
        "Напишите код, который бы увеличил число заказов в словаре user_dict на 10, а также заменил почту на ksobchak@mail.ru"
      ]
    },
    {
      "cell_type": "code",
      "metadata": {
        "id": "avD0Votf4tQG"
      },
      "source": [
        "user_dict = {\n",
        "    'id': 532,\n",
        "    'name': 'Ксения',\n",
        "    'surmame': 'Собчак',\n",
        "    'age': 39,\n",
        "    'gender': x,\n",
        "    'mail': 'sobchak@yandex.ru',\n",
        "    'count_orders': 1402\n",
        "}\n"
      ],
      "execution_count": null,
      "outputs": []
    },
    {
      "cell_type": "code",
      "source": [
        "user_dict['count_orders'] += 10 # user_dict['count_orders'] = user_dict['count_orders'] + 10\n",
        "user_dict['count_orders']"
      ],
      "metadata": {
        "id": "LAebMNHrOe2u",
        "colab": {
          "base_uri": "https://localhost:8080/"
        },
        "outputId": "6a5e5774-4828-43d2-cfd1-9da928880b67"
      },
      "execution_count": null,
      "outputs": [
        {
          "output_type": "execute_result",
          "data": {
            "text/plain": [
              "1412"
            ]
          },
          "metadata": {},
          "execution_count": 62
        }
      ]
    },
    {
      "cell_type": "code",
      "source": [
        "user_dict['mail'] = \"ksobchak@mail.ru\""
      ],
      "metadata": {
        "id": "-esy01UjPGNw"
      },
      "execution_count": null,
      "outputs": []
    },
    {
      "cell_type": "code",
      "source": [
        "user_dict"
      ],
      "metadata": {
        "id": "UWRdgbqfBuGc",
        "colab": {
          "base_uri": "https://localhost:8080/"
        },
        "outputId": "9fa50847-e972-4b78-87bc-7fd81f255866"
      },
      "execution_count": null,
      "outputs": [
        {
          "output_type": "execute_result",
          "data": {
            "text/plain": [
              "{'id': 532,\n",
              " 'name': 'Ксения',\n",
              " 'surmame': 'Собчак',\n",
              " 'age': 40,\n",
              " 'gender': 'female',\n",
              " 'mail': 'ksobchak@mail.ru',\n",
              " 'count_orders': 1412}"
            ]
          },
          "metadata": {},
          "execution_count": 64
        }
      ]
    },
    {
      "cell_type": "markdown",
      "metadata": {
        "id": "HTXBHvCK3Vfs"
      },
      "source": [
        "Получить данные из словаря можно с помощью метода `get()`. Он позволяет установить значение по умолчанию, если элемент не был найдет"
      ]
    },
    {
      "cell_type": "code",
      "metadata": {
        "id": "ycm5JBvchpbk",
        "colab": {
          "base_uri": "https://localhost:8080/"
        },
        "outputId": "f938ffaa-6126-4329-e879-812462a7d081"
      },
      "source": [
        "employee_base\n"
      ],
      "execution_count": null,
      "outputs": [
        {
          "output_type": "execute_result",
          "data": {
            "text/plain": [
              "{'Мария Никитина': 'старший менеджер',\n",
              " 'Егор Савичев': 'разработчик',\n",
              " 'Александр Пахомов': 'дизайнер',\n",
              " 'Алина Егорова': 'разработчик',\n",
              " 'Руслан Башаров': 'верстальщик',\n",
              " 'Егор Зимин': 'разработчик'}"
            ]
          },
          "metadata": {},
          "execution_count": 65
        }
      ]
    },
    {
      "cell_type": "code",
      "source": [
        "employee_base[\"Мария Лобанова\"]"
      ],
      "metadata": {
        "id": "meQZXoxfgG9g",
        "colab": {
          "base_uri": "https://localhost:8080/",
          "height": 181
        },
        "outputId": "444ef6e6-20ae-421a-b0eb-47a3fad6afb0"
      },
      "execution_count": null,
      "outputs": [
        {
          "output_type": "error",
          "ename": "KeyError",
          "evalue": "'Мария Лобанова'",
          "traceback": [
            "\u001b[0;31m---------------------------------------------------------------------------\u001b[0m",
            "\u001b[0;31mKeyError\u001b[0m                                  Traceback (most recent call last)",
            "\u001b[0;32m<ipython-input-66-4590ccdedeac>\u001b[0m in \u001b[0;36m<cell line: 1>\u001b[0;34m()\u001b[0m\n\u001b[0;32m----> 1\u001b[0;31m \u001b[0memployee_base\u001b[0m\u001b[0;34m[\u001b[0m\u001b[0;34m\"Мария Лобанова\"\u001b[0m\u001b[0;34m]\u001b[0m\u001b[0;34m\u001b[0m\u001b[0;34m\u001b[0m\u001b[0m\n\u001b[0m",
            "\u001b[0;31mKeyError\u001b[0m: 'Мария Лобанова'"
          ]
        }
      ]
    },
    {
      "cell_type": "code",
      "metadata": {
        "id": "kIa4YuGY3U6k",
        "colab": {
          "base_uri": "https://localhost:8080/",
          "height": 36
        },
        "outputId": "7bf2ad5b-c1c9-4e72-c191-63e50955f896"
      },
      "source": [
        "employee_base.get(\"Мария Лобанова\", \"Такого сотрудника не было найдено\")"
      ],
      "execution_count": null,
      "outputs": [
        {
          "output_type": "execute_result",
          "data": {
            "text/plain": [
              "'старший менеджер'"
            ],
            "application/vnd.google.colaboratory.intrinsic+json": {
              "type": "string"
            }
          },
          "metadata": {},
          "execution_count": 68
        }
      ]
    },
    {
      "cell_type": "code",
      "metadata": {
        "id": "Lf5XOkya3tJN",
        "colab": {
          "base_uri": "https://localhost:8080/"
        },
        "outputId": "740e297e-53e3-4918-a497-cc6427e79a44"
      },
      "source": [
        "error = employee_base.get(\"Митрофан Смирнов\", -1)\n",
        "error == -1"
      ],
      "execution_count": null,
      "outputs": [
        {
          "output_type": "execute_result",
          "data": {
            "text/plain": [
              "True"
            ]
          },
          "metadata": {},
          "execution_count": 69
        }
      ]
    },
    {
      "cell_type": "markdown",
      "metadata": {
        "id": "arXb9fAJ5LXk"
      },
      "source": [
        "Часто бывает ситуация, что словарь необходимо дополнить. Тогда вам поможет метод `update()`"
      ]
    },
    {
      "cell_type": "code",
      "metadata": {
        "id": "4WZfF4PN5W5l",
        "colab": {
          "base_uri": "https://localhost:8080/"
        },
        "outputId": "af05bac3-364c-45ae-8364-32b616ecfaa9"
      },
      "source": [
        "employee_base = {\n",
        "    'Мария Никитина': 'менеджер',\n",
        "    'Егор Савичев': 'разработчик',\n",
        "    'Александр Пахомов': 'дизайнер',\n",
        "    'Алина Егорова': 'разработчик',\n",
        "    'Руслан Башаров': 'верстальщик'}\n",
        "new_base = {\n",
        "    'Роман Родимов': 'HR менеджер',\n",
        "    'Ксения Колесниченко': 'data scientist',\n",
        "    'Андрей Рысистов': 'уборщик'\n",
        "}\n",
        "employee_base.update(new_base)\n",
        "employee_base"
      ],
      "execution_count": null,
      "outputs": [
        {
          "output_type": "execute_result",
          "data": {
            "text/plain": [
              "{'Мария Никитина': 'менеджер',\n",
              " 'Егор Савичев': 'разработчик',\n",
              " 'Александр Пахомов': 'дизайнер',\n",
              " 'Алина Егорова': 'разработчик',\n",
              " 'Руслан Башаров': 'верстальщик',\n",
              " 'Роман Родимов': 'HR менеджер',\n",
              " 'Ксения Колесниченко': 'data scientist',\n",
              " 'Андрей Рысистов': 'уборщик'}"
            ]
          },
          "metadata": {},
          "execution_count": 70
        }
      ]
    },
    {
      "cell_type": "code",
      "metadata": {
        "id": "poeg8CY37oC_",
        "colab": {
          "base_uri": "https://localhost:8080/"
        },
        "outputId": "af2ba983-0403-46c4-f9b8-adfcf704991d"
      },
      "source": [
        "employee_base.update({'Андрей Рысистов': 'data scientist'})\n",
        "employee_base"
      ],
      "execution_count": null,
      "outputs": [
        {
          "output_type": "execute_result",
          "data": {
            "text/plain": [
              "{'Мария Никитина': 'менеджер',\n",
              " 'Егор Савичев': 'разработчик',\n",
              " 'Александр Пахомов': 'дизайнер',\n",
              " 'Алина Егорова': 'разработчик',\n",
              " 'Руслан Башаров': 'верстальщик',\n",
              " 'Роман Родимов': 'HR менеджер',\n",
              " 'Ксения Колесниченко': 'data scientist',\n",
              " 'Андрей Рысистов': 'data scientist'}"
            ]
          },
          "metadata": {},
          "execution_count": 71
        }
      ]
    },
    {
      "cell_type": "markdown",
      "metadata": {
        "id": "JxX0xm5m3ySd"
      },
      "source": [
        "Задача:\n",
        "\n",
        "Добавьте в наш словарь `user_dict` логин и пароль от личного кабинета, а также обновите имя и фамилию с помощью метода update"
      ]
    },
    {
      "cell_type": "code",
      "metadata": {
        "id": "niii38bM6sRR",
        "colab": {
          "base_uri": "https://localhost:8080/"
        },
        "outputId": "0facf6e1-faf8-4f34-a83e-88d79bf0625c"
      },
      "source": [
        "user_dict = {\n",
        "    'id': 532,\n",
        "    'name': 'Ксения',\n",
        "    'surname': 'Собчак',\n",
        "    'age': 39,\n",
        "    'gender': 'female',\n",
        "    'mail': 'sobchak@yandex.ru',\n",
        "    'count_orders': 1402\n",
        "}\n",
        "new_info = {\n",
        "    \"name\" : \"Валерия\",\n",
        "    \"surname\" : \"Иванова\",\n",
        "    \"login\" : \"Ivanova333\",\n",
        "    \"password\" : \"1234321\",\n",
        "}\n",
        "\n",
        "user_dict.update(new_info)\n",
        "\n",
        "user_dict"
      ],
      "execution_count": null,
      "outputs": [
        {
          "output_type": "execute_result",
          "data": {
            "text/plain": [
              "{'id': 532,\n",
              " 'name': 'Валерия',\n",
              " 'surname': 'Иванова',\n",
              " 'age': 39,\n",
              " 'gender': 'female',\n",
              " 'mail': 'sobchak@yandex.ru',\n",
              " 'count_orders': 1402,\n",
              " 'login': 'Ivanova333',\n",
              " 'password': '1234321'}"
            ]
          },
          "metadata": {},
          "execution_count": 73
        }
      ]
    },
    {
      "cell_type": "markdown",
      "metadata": {
        "id": "fu5fjjlx7WSt"
      },
      "source": [
        "Удаление по ключу из словаря осуществляется с помощью метода `pop()`"
      ]
    },
    {
      "cell_type": "code",
      "source": [
        "employee_base"
      ],
      "metadata": {
        "id": "cnhKmaftQvsW",
        "colab": {
          "base_uri": "https://localhost:8080/"
        },
        "outputId": "2757646b-8b85-465a-bb31-0ccef7c31df7"
      },
      "execution_count": null,
      "outputs": [
        {
          "output_type": "execute_result",
          "data": {
            "text/plain": [
              "{'Мария Никитина': 'менеджер',\n",
              " 'Егор Савичев': 'разработчик',\n",
              " 'Александр Пахомов': 'дизайнер',\n",
              " 'Алина Егорова': 'разработчик',\n",
              " 'Руслан Башаров': 'верстальщик',\n",
              " 'Роман Родимов': 'HR менеджер',\n",
              " 'Ксения Колесниченко': 'data scientist',\n",
              " 'Андрей Рысистов': 'data scientist'}"
            ]
          },
          "metadata": {},
          "execution_count": 74
        }
      ]
    },
    {
      "cell_type": "code",
      "metadata": {
        "id": "Uh8-FAlPm_EH",
        "colab": {
          "base_uri": "https://localhost:8080/",
          "height": 36
        },
        "outputId": "58b20538-5873-457a-972a-4f82196e4291"
      },
      "source": [
        "deleted = employee_base.pop('Егор Савичев')\n",
        "deleted"
      ],
      "execution_count": null,
      "outputs": [
        {
          "output_type": "execute_result",
          "data": {
            "text/plain": [
              "'разработчик'"
            ],
            "application/vnd.google.colaboratory.intrinsic+json": {
              "type": "string"
            }
          },
          "metadata": {},
          "execution_count": 75
        }
      ]
    },
    {
      "cell_type": "code",
      "source": [
        "employee_base"
      ],
      "metadata": {
        "id": "Kw--NOzTmxP8",
        "colab": {
          "base_uri": "https://localhost:8080/"
        },
        "outputId": "e1d5f22c-65cf-45e0-c107-d5fa65fcf0b2"
      },
      "execution_count": null,
      "outputs": [
        {
          "output_type": "execute_result",
          "data": {
            "text/plain": [
              "{'Мария Никитина': 'менеджер',\n",
              " 'Александр Пахомов': 'дизайнер',\n",
              " 'Алина Егорова': 'разработчик',\n",
              " 'Руслан Башаров': 'верстальщик',\n",
              " 'Роман Родимов': 'HR менеджер',\n",
              " 'Ксения Колесниченко': 'data scientist',\n",
              " 'Андрей Рысистов': 'data scientist'}"
            ]
          },
          "metadata": {},
          "execution_count": 76
        }
      ]
    },
    {
      "cell_type": "markdown",
      "metadata": {
        "id": "q3noJPlixzWG"
      },
      "source": [
        "**Вопрос**: как вы думаете, имеет ли словарь метод sort()?"
      ]
    },
    {
      "cell_type": "code",
      "source": [
        "employee_base.sort()\n"
      ],
      "metadata": {
        "id": "ywZXWGBFRB5m",
        "colab": {
          "base_uri": "https://localhost:8080/",
          "height": 181
        },
        "outputId": "e3567561-0df0-4f3a-8441-df522660d098"
      },
      "execution_count": null,
      "outputs": [
        {
          "output_type": "error",
          "ename": "AttributeError",
          "evalue": "'dict' object has no attribute 'sort'",
          "traceback": [
            "\u001b[0;31m---------------------------------------------------------------------------\u001b[0m",
            "\u001b[0;31mAttributeError\u001b[0m                            Traceback (most recent call last)",
            "\u001b[0;32m<ipython-input-77-08816d1bc63c>\u001b[0m in \u001b[0;36m<cell line: 1>\u001b[0;34m()\u001b[0m\n\u001b[0;32m----> 1\u001b[0;31m \u001b[0memployee_base\u001b[0m\u001b[0;34m.\u001b[0m\u001b[0msort\u001b[0m\u001b[0;34m(\u001b[0m\u001b[0;34m)\u001b[0m\u001b[0;34m\u001b[0m\u001b[0;34m\u001b[0m\u001b[0m\n\u001b[0m",
            "\u001b[0;31mAttributeError\u001b[0m: 'dict' object has no attribute 'sort'"
          ]
        }
      ]
    },
    {
      "cell_type": "code",
      "source": [
        "keys = list(employee_base.keys())\n",
        "print(keys)\n",
        "keys.sort()\n",
        "keys"
      ],
      "metadata": {
        "id": "7BZE-lJq-K64"
      },
      "execution_count": null,
      "outputs": []
    },
    {
      "cell_type": "code",
      "source": [],
      "metadata": {
        "id": "i2BSFUydXFyr"
      },
      "execution_count": null,
      "outputs": []
    },
    {
      "cell_type": "markdown",
      "metadata": {
        "id": "_u11hK86Mbfm"
      },
      "source": [
        "Помимо перечисленных методов словари так же обладают большим количеством других возможностей. Их основной список можно найти по ссылочке: https://pythonworld.ru/tipy-dannyx-v-python/slovari-dict-funkcii-i-metody-slovarej.html"
      ]
    },
    {
      "cell_type": "markdown",
      "metadata": {
        "id": "a6lyRtrA9J4L"
      },
      "source": [
        "### 4.5 Вложенные словари"
      ]
    },
    {
      "cell_type": "markdown",
      "metadata": {
        "id": "B-s_uvIhm_EI"
      },
      "source": [
        "Как вы уже поняли, сложные вещи в этом мире тяжело описать простыми структурами, поэтому ровно так же как существуют вложенные списки, существуют и вложенные словари.\n",
        "\n",
        "Рассмотрим такую структуру на примере конфигурации сервера"
      ]
    },
    {
      "cell_type": "code",
      "metadata": {
        "id": "pVZJFVYQ9J4N"
      },
      "source": [
        "# Часто встречается при работе с конфигурационными файлами, JSON схемами и не только\n",
        "config = {\n",
        "    \"server\": {\n",
        "        \"host\": \"127.0.0.1\",\n",
        "        \"port\": \"22\"\n",
        "    },\n",
        "    \"configuration\": {\n",
        "\n",
        "        \"ssh\": {\n",
        "            \"access\": True,\n",
        "            \"login\": \"some\",\n",
        "            \"password\": \"some\"\n",
        "        },\n",
        "        \"name\": \"2491Oaaf1414\"\n",
        "    }\n",
        "}"
      ],
      "execution_count": null,
      "outputs": []
    },
    {
      "cell_type": "code",
      "source": [
        "config[\"configuration\"][\"ssh\"][\"login\"]"
      ],
      "metadata": {
        "id": "0qzPkQiHSt5H"
      },
      "execution_count": null,
      "outputs": []
    },
    {
      "cell_type": "code",
      "metadata": {
        "id": "8CNbTJeu5nBP"
      },
      "source": [
        "config['server']['host']"
      ],
      "execution_count": null,
      "outputs": []
    },
    {
      "cell_type": "code",
      "metadata": {
        "id": "ES7hBC0yUbgc"
      },
      "source": [
        "config['configuration']['ssh']['password']"
      ],
      "execution_count": null,
      "outputs": []
    },
    {
      "cell_type": "markdown",
      "metadata": {
        "id": "TrHhcAyINeV-"
      },
      "source": [
        "Задача: напишите код для получения логина от ssh соединения"
      ]
    },
    {
      "cell_type": "code",
      "source": [
        "config[\"configuration\"][\"ssh\"][\"login\"]"
      ],
      "metadata": {
        "id": "i-W9oSCeSWFF"
      },
      "execution_count": null,
      "outputs": []
    },
    {
      "cell_type": "markdown",
      "metadata": {
        "id": "PmLJw37_m_EJ"
      },
      "source": [
        "А теперь совместим две изученные нами структуры"
      ]
    },
    {
      "cell_type": "markdown",
      "metadata": {
        "id": "khxMKXlX9J4k"
      },
      "source": [
        "### 4.6 Практический кейс на словари\n",
        "\n"
      ]
    },
    {
      "cell_type": "markdown",
      "metadata": {
        "id": "b7IWLi3RNpn0"
      },
      "source": [
        "Пусть у нас есть некоторая информация о пабликах в сети ВКонтакте. Необходимо организовать код для получения ссылок на аватарки данных пабликов. Все ссылки необходимо оформить во вложенный список"
      ]
    },
    {
      "cell_type": "code",
      "metadata": {
        "id": "RJs1qB4S9J4l"
      },
      "source": [
        "response = {'response': [\n",
        "    {\n",
        "    'id': 42565717,\n",
        "   'name': 'Python',\n",
        "   'screen_name': 'club42565717',\n",
        "   'is_closed': 0,\n",
        "   'type': 'group',\n",
        "   'members_count': 37319,\n",
        "   'activity': 'Открытая группа',\n",
        "   'photo_50': 'https://sun9-127.userapi.com/c845524/v845524906/1a71c2/A2r_4JtmiLQ.jpg?ava=1',\n",
        "   'photo_100': 'https://sun9-58.userapi.com/c845524/v845524906/1a71c1/2fBtsS0k8XY.jpg?ava=1',\n",
        "   'photo_200': 'https://sun9-50.userapi.com/c845524/v845524906/1a71c0/Kfo-eQIn0DU.jpg?ava=1'},\n",
        "\n",
        "  {'id': 3183750,\n",
        "   'name': 'Веб программист - PHP, JS, Python, Java, HTML 5',\n",
        "   'screen_name': 'php2all',\n",
        "   'is_closed': 0,\n",
        "   'type': 'page',\n",
        "   'members_count': 117833,\n",
        "   'activity': 'Программирование',\n",
        "   'photo_50': 'https://sun9-54.userapi.com/c626421/v626421613/941/HSj4ylRsk8k.jpg?ava=1',\n",
        "   'photo_100': 'https://sun9-5.userapi.com/c626421/v626421613/940/yKaZLxGShkY.jpg?ava=1',\n",
        "   'photo_200': 'https://sun9-49.userapi.com/c626421/v626421613/93f/2EygT_FJKWg.jpg?ava=1'}\n",
        "    ]\n",
        "            }"
      ],
      "execution_count": null,
      "outputs": []
    },
    {
      "cell_type": "code",
      "metadata": {
        "id": "UxFTCVQ6xYrF"
      },
      "source": [
        "final_array = [[photo_50, photo_100, photo_200], [photo_50, photo_100, photo_200]]"
      ],
      "execution_count": null,
      "outputs": []
    },
    {
      "cell_type": "markdown",
      "metadata": {
        "id": "dKYHVLLnEbVR"
      },
      "source": [
        "## 5. Спасибо за внимание! Буду рад ответить на ваши вопросы\n",
        "\n",
        "Форма ОС:\n",
        "https://docs.google.com/forms/d/1glhr6K3MDSOONQy9Ft4f9OOLt9k1A9cayxQeP0EtmDM/edit?usp=drive_web\n"
      ]
    }
  ]
}